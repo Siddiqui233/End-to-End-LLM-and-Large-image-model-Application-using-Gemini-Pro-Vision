{
 "cells": [
  {
   "cell_type": "markdown",
   "id": "5df05014-b8e5-4cb6-8425-38db28c7ceeb",
   "metadata": {},
   "source": [
    "Image Analytics\n"
   ]
  },
  {
   "cell_type": "code",
   "execution_count": 14,
   "id": "0ef24154-a7fc-46a8-bafb-02ea6495509c",
   "metadata": {},
   "outputs": [],
   "source": [
    "######## Import the required packages ############\n",
    "import streamlit as st\n",
    "import google.generativeai as genai\n",
    "from PIL import Image\n",
    "from gtts import gTTS\n",
    "import base64\n",
    "\n",
    "####### Provide your API key ###################\n",
    "api_key = \"Enter your gemini_Api KEY\"\n",
    "genai.configure(api_key=api_key)\n",
    "\n",
    "######## Choose the heading ###############\n",
    "st.header(\"Image Analytics\")\n",
    "\n",
    "########## Upload a file ##################\n",
    "uploaded_file = st.file_uploader(\"Upload an image\", type=[\"png\", \"jpg\"])\n",
    "\n",
    "if uploaded_file is not None:\n",
    "    st.image(Image.open(uploaded_file))\n",
    "\n",
    "############ What you want to ask ####################\n",
    "prompt = st.text_input(\"Enter the text\")\n",
    "\n",
    "######### Use generative AI ##########################\n",
    "if st.button(\"GET RESPONSE\"):\n",
    "    img = Image.open(uploaded_file)\n",
    "    model = genai.GenerativeModel(\"gemini-1.0-pro-vision-letest\")\n",
    "    response = model.generate_content([prompt, img])\n",
    "    st.markdown(response.text)\n",
    "\n",
    "    # Convert the response text to speech\n",
    "    tts = gTTS(response.text, lang='english')\n",
    "    tts.save(\"response.mp4\")\n",
    "\n",
    "    # Load the saved audio file and encode it in base64\n",
    "    audio_file = open(\"response.mp4\", \"rb\").read()\n",
    "    audio_b64 = base64.b64encode(audio_file).decode()\n",
    "\n",
    "    # Display audio player in Streamlit\n",
    "    st.audio(f\"data:audio/mp3;base64,{audio_b64}\", format=\"audio/mp3\")\n",
    "    \n",
    "\n"
   ]
  },
  {
   "cell_type": "code",
   "execution_count": null,
   "id": "52ac44aa-62de-4975-acb6-719b832c35fd",
   "metadata": {},
   "outputs": [],
   "source": []
  }
 ],
 "metadata": {
  "kernelspec": {
   "display_name": "Python 3 (ipykernel)",
   "language": "python",
   "name": "python3"
  },
  "language_info": {
   "codemirror_mode": {
    "name": "ipython",
    "version": 3
   },
   "file_extension": ".py",
   "mimetype": "text/x-python",
   "name": "python",
   "nbconvert_exporter": "python",
   "pygments_lexer": "ipython3",
   "version": "3.11.7"
  }
 },
 "nbformat": 4,
 "nbformat_minor": 5
}
